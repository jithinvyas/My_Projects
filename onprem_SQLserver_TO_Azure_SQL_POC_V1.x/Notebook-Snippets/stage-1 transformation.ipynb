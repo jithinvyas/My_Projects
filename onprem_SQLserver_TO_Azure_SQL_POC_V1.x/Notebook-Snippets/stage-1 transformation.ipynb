{
 "cells": [
  {
   "cell_type": "code",
   "execution_count": 0,
   "metadata": {
    "application/vnd.databricks.v1+cell": {
     "cellMetadata": {
      "byteLimit": 2048000,
      "rowLimit": 10000
     },
     "inputWidgets": {},
     "nuid": "02b23487-f2e7-4d93-b1ba-4ce71ce4aa44",
     "showTitle": false,
     "title": ""
    }
   },
   "outputs": [],
   "source": [
    "table_names = []\n",
    "\n",
    "for files in dbutils.fs.ls('mnt/jv-container/raw-zone/dbo/'):\n",
    "    table_names.append(files.name.split('/')[0])"
   ]
  },
  {
   "cell_type": "code",
   "execution_count": 0,
   "metadata": {
    "application/vnd.databricks.v1+cell": {
     "cellMetadata": {
      "byteLimit": 2048000,
      "rowLimit": 10000
     },
     "inputWidgets": {},
     "nuid": "66c39e10-5681-4d2b-903c-5e99b5ea2bb1",
     "showTitle": false,
     "title": ""
    }
   },
   "outputs": [
    {
     "output_type": "execute_result",
     "data": {
      "text/plain": [
       "['tblCity', 'tblEmps']"
      ]
     },
     "execution_count": 11,
     "metadata": {},
     "output_type": "execute_result"
    }
   ],
   "source": [
    "table_names"
   ]
  },
  {
   "cell_type": "code",
   "execution_count": 0,
   "metadata": {
    "application/vnd.databricks.v1+cell": {
     "cellMetadata": {
      "byteLimit": 2048000,
      "rowLimit": 10000
     },
     "inputWidgets": {},
     "nuid": "5648285b-bc36-43d1-ba92-9a96cf8fcea0",
     "showTitle": false,
     "title": ""
    }
   },
   "outputs": [
    {
     "output_type": "stream",
     "name": "stdout",
     "output_type": "stream",
     "text": [
      "+-------+------------+\n|pinCode|      Cities|\n+-------+------------+\n| 700081|   Hyderabad|\n| 700082|     Chennai|\n| 700083|    Banglore|\n| 700084|     Lucknow|\n| 700085|   New Delhi|\n|     50|INVALID CITY|\n+-------+------------+\n\n"
     ]
    }
   ],
   "source": [
    "df1 = spark.read.csv('dbfs:/mnt/jv-container/raw-zone/dbo/tblCity/tblCity.csv',inferSchema=True,header=True)\n",
    "df1 = df1.withColumnRenamed('City','Cities')\n",
    "df1.show()"
   ]
  },
  {
   "cell_type": "code",
   "execution_count": 0,
   "metadata": {
    "application/vnd.databricks.v1+cell": {
     "cellMetadata": {
      "byteLimit": 2048000,
      "rowLimit": 10000
     },
     "inputWidgets": {},
     "nuid": "10d69cfe-414c-44e0-b564-8963f0e2d75f",
     "showTitle": false,
     "title": ""
    }
   },
   "outputs": [
    {
     "output_type": "stream",
     "name": "stdout",
     "output_type": "stream",
     "text": [
      "+---+-----+---+-----------+--------+-------+\n| id|EName|Age|AreaPinCode|RepMgrID| salary|\n+---+-----+---+-----------+--------+-------+\n|  1|  AAA| 25|     700082|       0|10000.0|\n|  2|  BBB| 35|     700085|       1| 8500.0|\n|  3|  CCC| 40|     700081|       4| 8000.0|\n|  4|  DDD| 47|     700081|       0| 7500.0|\n|  5|  EEE| 30|     700081|       1| 8500.0|\n|  6|  FFF| 35|     700085|       3| 7900.0|\n|  7|  GGG| 36|          0|       3|    0.0|\n| 10|  HHH| 20|     700083|       0|15500.0|\n+---+-----+---+-----------+--------+-------+\n\n"
     ]
    }
   ],
   "source": [
    "df2 = spark.read.csv('dbfs:/mnt/jv-container/raw-zone/dbo/tblEmps/tblEmps.csv',inferSchema=True,header=True)\n",
    "df2 = df2.fillna(0)\n",
    "df2.show()"
   ]
  },
  {
   "cell_type": "code",
   "execution_count": 0,
   "metadata": {
    "application/vnd.databricks.v1+cell": {
     "cellMetadata": {
      "byteLimit": 2048000,
      "rowLimit": 10000
     },
     "inputWidgets": {},
     "nuid": "23d6a204-59d6-4015-b9ad-5872eadf89ba",
     "showTitle": false,
     "title": ""
    }
   },
   "outputs": [],
   "source": [
    "# output_path = 'dbfs:/mnt/jv-container/silver-zone/dbo/tblCity/'\n",
    "\n",
    "df1.write.format('delta').mode(\"overwrite\").save('dbfs:/mnt/jv-container/silver-zone/dbo/tblCity/')\n",
    "df2.write.format('delta').mode(\"overwrite\").save('dbfs:/mnt/jv-container/silver-zone/dbo/tblEmps/')"
   ]
  }
 ],
 "metadata": {
  "application/vnd.databricks.v1+notebook": {
   "dashboards": [],
   "environmentMetadata": null,
   "language": "python",
   "notebookMetadata": {
    "pythonIndentUnit": 4
   },
   "notebookName": "stage-1 transformation",
   "widgets": {}
  }
 },
 "nbformat": 4,
 "nbformat_minor": 0
}
