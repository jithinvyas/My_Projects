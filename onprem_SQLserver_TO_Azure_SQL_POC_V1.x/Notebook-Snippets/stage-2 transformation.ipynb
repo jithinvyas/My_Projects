{
 "cells": [
  {
   "cell_type": "code",
   "execution_count": 0,
   "metadata": {
    "application/vnd.databricks.v1+cell": {
     "cellMetadata": {
      "byteLimit": 2048000,
      "rowLimit": 10000
     },
     "inputWidgets": {},
     "nuid": "08df83ae-6f00-403c-a33c-7c23edaf33ab",
     "showTitle": false,
     "title": ""
    }
   },
   "outputs": [
    {
     "output_type": "execute_result",
     "data": {
      "text/plain": [
       "['tblCity', 'tblEmps']"
      ]
     },
     "execution_count": 7,
     "metadata": {},
     "output_type": "execute_result"
    }
   ],
   "source": [
    "table_names = []\n",
    "for i in dbutils.fs.ls('mnt/jv-container/silver-zone/dbo/'):\n",
    "    table_names.append(i.name.split('/')[0])\n",
    "    \n",
    "table_names   "
   ]
  },
  {
   "cell_type": "code",
   "execution_count": 0,
   "metadata": {
    "application/vnd.databricks.v1+cell": {
     "cellMetadata": {
      "byteLimit": 2048000,
      "rowLimit": 10000
     },
     "inputWidgets": {},
     "nuid": "1c61e54c-b352-4837-958e-7b54ab0a1a99",
     "showTitle": false,
     "title": ""
    }
   },
   "outputs": [
    {
     "output_type": "stream",
     "name": "stdout",
     "output_type": "stream",
     "text": [
      "+-------+------------+\n|pinCode|      Cities|\n+-------+------------+\n| 700081|   Hyderabad|\n| 700082|     Chennai|\n| 700083|    Banglore|\n| 700084|     Lucknow|\n| 700085|   New Delhi|\n|     50|INVALID CITY|\n+-------+------------+\n\n"
     ]
    }
   ],
   "source": [
    "df1 = spark.read.format('delta').option('header',True).option('inferSchema',True).load('dbfs:/mnt/jv-container/silver-zone/dbo/tblCity/')\n",
    "df1.show()"
   ]
  },
  {
   "cell_type": "code",
   "execution_count": 0,
   "metadata": {
    "application/vnd.databricks.v1+cell": {
     "cellMetadata": {
      "byteLimit": 2048000,
      "rowLimit": 10000
     },
     "inputWidgets": {},
     "nuid": "c891b432-0ab8-4c9e-8524-508ba43a07f2",
     "showTitle": false,
     "title": ""
    }
   },
   "outputs": [
    {
     "output_type": "stream",
     "name": "stdout",
     "output_type": "stream",
     "text": [
      "+---+-----+---+-----------+--------+-------+\n| id|EName|Age|AreaPinCode|RepMgrID| salary|\n+---+-----+---+-----------+--------+-------+\n|  1|  AAA| 25|     700082|       0|10000.0|\n|  2|  BBB| 35|     700085|       1| 8500.0|\n|  3|  CCC| 40|     700081|       4| 8000.0|\n|  4|  DDD| 47|     700081|       0| 7500.0|\n|  5|  EEE| 30|     700081|       1| 8500.0|\n|  6|  FFF| 35|     700085|       3| 7900.0|\n|  7|  GGG| 36|          0|       3|    0.0|\n| 10|  HHH| 20|     700083|       0|15500.0|\n+---+-----+---+-----------+--------+-------+\n\n"
     ]
    }
   ],
   "source": [
    "df2 = spark.read.format('delta').option('header',True).option('inferSchema',True).load('dbfs:/mnt/jv-container/silver-zone/dbo/tblEmps/')\n",
    "df2.show()"
   ]
  },
  {
   "cell_type": "code",
   "execution_count": 0,
   "metadata": {
    "application/vnd.databricks.v1+cell": {
     "cellMetadata": {
      "byteLimit": 2048000,
      "rowLimit": 10000
     },
     "inputWidgets": {},
     "nuid": "ad0d9b41-2f70-4bb7-bd51-6d0d6411d92c",
     "showTitle": false,
     "title": ""
    }
   },
   "outputs": [
    {
     "output_type": "stream",
     "name": "stdout",
     "output_type": "stream",
     "text": [
      "+---+-----+---+--------+-------+-------+---------+\n| id|EName|Age|RepMgrID| salary|pinCode|   Cities|\n+---+-----+---+--------+-------+-------+---------+\n|  1|  AAA| 25|       0|10000.0| 700082|  Chennai|\n|  2|  BBB| 35|       1| 8500.0| 700085|New Delhi|\n|  3|  CCC| 40|       4| 8000.0| 700081|Hyderabad|\n|  4|  DDD| 47|       0| 7500.0| 700081|Hyderabad|\n|  5|  EEE| 30|       1| 8500.0| 700081|Hyderabad|\n|  6|  FFF| 35|       3| 7900.0| 700085|New Delhi|\n|  7|  GGG| 36|       3|    0.0|   NULL|     NULL|\n| 10|  HHH| 20|       0|15500.0| 700083| Banglore|\n+---+-----+---+--------+-------+-------+---------+\n\n"
     ]
    }
   ],
   "source": [
    "df3 = df2.join(df1, df2.AreaPinCode==df1.pinCode, 'left').orderBy('id')\n",
    "df3 = df3.select(df3.id,df3.EName,df3.Age,df3.RepMgrID,df3.salary,df3.pinCode,df3.Cities)\n",
    "df3.show()"
   ]
  },
  {
   "cell_type": "code",
   "execution_count": 0,
   "metadata": {
    "application/vnd.databricks.v1+cell": {
     "cellMetadata": {
      "byteLimit": 2048000,
      "rowLimit": 10000
     },
     "inputWidgets": {},
     "nuid": "da411b05-d4fb-4acb-bb3e-a290a5a24b6e",
     "showTitle": false,
     "title": ""
    }
   },
   "outputs": [],
   "source": [
    "df3.write.format('delta').mode(\"overwrite\").save('dbfs:/mnt/jv-container/gold-zone/')"
   ]
  }
 ],
 "metadata": {
  "application/vnd.databricks.v1+notebook": {
   "dashboards": [],
   "environmentMetadata": null,
   "language": "python",
   "notebookMetadata": {
    "pythonIndentUnit": 4
   },
   "notebookName": "stage-2 transformation",
   "widgets": {}
  }
 },
 "nbformat": 4,
 "nbformat_minor": 0
}
